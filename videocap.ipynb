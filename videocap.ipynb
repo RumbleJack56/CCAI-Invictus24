{
 "cells": [
  {
   "cell_type": "code",
   "execution_count": 1,
   "metadata": {},
   "outputs": [],
   "source": [
    "from tensorflow.keras.models import load_model\n",
    "from tensorflow.nn import softmax\n",
    "import cv2,numpy as np,time"
   ]
  },
  {
   "cell_type": "code",
   "execution_count": 2,
   "metadata": {},
   "outputs": [
    {
     "data": {
      "text/plain": [
       "[0, 2]"
      ]
     },
     "execution_count": 2,
     "metadata": {},
     "output_type": "execute_result"
    }
   ],
   "source": [
    "# Check for Available Cameras\n",
    "available_cameras = [*filter(lambda x:not(cv2.VideoCapture(x) is None or not cv2.VideoCapture(x).isOpened()),range(6))]\n",
    "available_cameras"
   ]
  },
  {
   "cell_type": "code",
   "execution_count": null,
   "metadata": {},
   "outputs": [],
   "source": [
    "cap = cv2.VideoCapture(available_cameras[0])\n",
    "\n",
    "mainFrame = np.zeros(550*600*3,dtype=np.uint8).reshape(550,600,3)\n",
    "model = load_model(\"sixtyfour.h5\")\n",
    "types = [\"up\",\"down\",\"left\",\"right\",\"front\",\"back\",\"land\",\"flip\",\"land\"]\n",
    "\n",
    "\n",
    "while True:\n",
    "    _ , frame = cap.read()\n",
    "    frame = frame[:,79:559,:]\n",
    "\n",
    "        pts , raw = convertToCords(cv2.cvtColor(frame,cv2.COLOR_BGR2RGB),1)\n",
    "    pickim = showImg(frame,raw)\n",
    "    conf=0\n",
    "    if len(raw.handedness)!=0:\n",
    "        preds = model.predict(np.array(pts).reshape(1,43),verbose=0)\n",
    "        softout = softmax(preds)\n",
    "        ans = types[np.argmax(softout)]\n",
    "        conf = np.max(softout.numpy())\n",
    "        print(ans ,conf, list(softout.numpy().tolist()) ,list(pts),end=\"\\r\")\n",
    "    \n",
    "    mainFrame[70:,79:559,:] = pickim\n",
    "    if conf > 0.5:\n",
    "        mainFrame[:70,:300,:] = np.zeros(70*300*3).reshape(70,300,3)\n",
    "        cv2.putText(mainFrame,f\"{ans} {conf}\",[20,20],0,0.5,color=[0,255,0])\n",
    "    else:\n",
    "        mainFrame[:70,:300,:] = np.zeros(70*300*3).reshape(70,300,3)\n",
    "        cv2.putText(mainFrame,f\"no strong detection\",[20,20],0,0.5,color=[0,0,255])\n",
    "\n",
    "    cv2.imshow(\"Frame\",mainFrame)\n",
    "\n",
    "    if (cv2.waitKey(10) & 0xFF == ord('q')):\n",
    "        break\n",
    "cap.release()\n",
    "cv2.destroyAllWindows()"
   ]
  }
 ],
 "metadata": {
  "kernelspec": {
   "display_name": "Python 3",
   "language": "python",
   "name": "python3"
  },
  "language_info": {
   "codemirror_mode": {
    "name": "ipython",
    "version": 3
   },
   "file_extension": ".py",
   "mimetype": "text/x-python",
   "name": "python",
   "nbconvert_exporter": "python",
   "pygments_lexer": "ipython3",
   "version": "3.9.2"
  }
 },
 "nbformat": 4,
 "nbformat_minor": 2
}
