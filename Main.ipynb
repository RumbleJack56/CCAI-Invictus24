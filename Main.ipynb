{
 "cells": [
  {
   "cell_type": "markdown",
   "metadata": {},
   "source": [
    "## **Exp model**\n",
    "Val_Accuracy = 52.7% in 17:05.\n",
    "\n",
    "## **Exp model 1**\n",
    "Val_Accuracy = 46.32%"
   ]
  },
  {
   "cell_type": "code",
   "execution_count": 1,
   "metadata": {},
   "outputs": [
    {
     "name": "stderr",
     "output_type": "stream",
     "text": [
      "2024-02-07 21:41:14.217952: I tensorflow/core/util/port.cc:113] oneDNN custom operations are on. You may see slightly different numerical results due to floating-point round-off errors from different computation orders. To turn them off, set the environment variable `TF_ENABLE_ONEDNN_OPTS=0`.\n",
      "2024-02-07 21:41:14.317119: E external/local_xla/xla/stream_executor/cuda/cuda_dnn.cc:9261] Unable to register cuDNN factory: Attempting to register factory for plugin cuDNN when one has already been registered\n",
      "2024-02-07 21:41:14.317169: E external/local_xla/xla/stream_executor/cuda/cuda_fft.cc:607] Unable to register cuFFT factory: Attempting to register factory for plugin cuFFT when one has already been registered\n",
      "2024-02-07 21:41:14.330172: E external/local_xla/xla/stream_executor/cuda/cuda_blas.cc:1515] Unable to register cuBLAS factory: Attempting to register factory for plugin cuBLAS when one has already been registered\n",
      "2024-02-07 21:41:14.360777: I tensorflow/core/platform/cpu_feature_guard.cc:182] This TensorFlow binary is optimized to use available CPU instructions in performance-critical operations.\n",
      "To enable the following instructions: AVX2 AVX_VNNI FMA, in other operations, rebuild TensorFlow with the appropriate compiler flags.\n",
      "2024-02-07 21:41:14.984020: W tensorflow/compiler/tf2tensorrt/utils/py_utils.cc:38] TF-TRT Warning: Could not find TensorRT\n",
      "/home/utkarsh/Documents/Virtual Env Projects/emotionDetection-InvictusHack/lib/python3.10/site-packages/tqdm/auto.py:21: TqdmWarning: IProgress not found. Please update jupyter and ipywidgets. See https://ipywidgets.readthedocs.io/en/stable/user_install.html\n",
      "  from .autonotebook import tqdm as notebook_tqdm\n"
     ]
    }
   ],
   "source": [
    "import tensorflow as tf\n",
    "import tensorflow_datasets as tfds"
   ]
  },
  {
   "cell_type": "code",
   "execution_count": 2,
   "metadata": {},
   "outputs": [
    {
     "name": "stdout",
     "output_type": "stream",
     "text": [
      "[PhysicalDevice(name='/physical_device:GPU:0', device_type='GPU')]\n"
     ]
    },
    {
     "name": "stderr",
     "output_type": "stream",
     "text": [
      "2024-02-07 21:41:20.272381: I external/local_xla/xla/stream_executor/cuda/cuda_executor.cc:901] successful NUMA node read from SysFS had negative value (-1), but there must be at least one NUMA node, so returning NUMA node zero. See more at https://github.com/torvalds/linux/blob/v6.0/Documentation/ABI/testing/sysfs-bus-pci#L344-L355\n",
      "2024-02-07 21:41:20.341816: I external/local_xla/xla/stream_executor/cuda/cuda_executor.cc:901] successful NUMA node read from SysFS had negative value (-1), but there must be at least one NUMA node, so returning NUMA node zero. See more at https://github.com/torvalds/linux/blob/v6.0/Documentation/ABI/testing/sysfs-bus-pci#L344-L355\n",
      "2024-02-07 21:41:20.341995: I external/local_xla/xla/stream_executor/cuda/cuda_executor.cc:901] successful NUMA node read from SysFS had negative value (-1), but there must be at least one NUMA node, so returning NUMA node zero. See more at https://github.com/torvalds/linux/blob/v6.0/Documentation/ABI/testing/sysfs-bus-pci#L344-L355\n"
     ]
    }
   ],
   "source": [
    "print(tf.config.list_physical_devices('GPU'))"
   ]
  },
  {
   "cell_type": "code",
   "execution_count": 3,
   "metadata": {},
   "outputs": [
    {
     "name": "stdout",
     "output_type": "stream",
     "text": [
      "Found 28709 files belonging to 7 classes.\n",
      "Using 20097 files for training.\n"
     ]
    },
    {
     "name": "stderr",
     "output_type": "stream",
     "text": [
      "2024-02-07 21:41:26.956199: I external/local_xla/xla/stream_executor/cuda/cuda_executor.cc:901] successful NUMA node read from SysFS had negative value (-1), but there must be at least one NUMA node, so returning NUMA node zero. See more at https://github.com/torvalds/linux/blob/v6.0/Documentation/ABI/testing/sysfs-bus-pci#L344-L355\n",
      "2024-02-07 21:41:26.956367: I external/local_xla/xla/stream_executor/cuda/cuda_executor.cc:901] successful NUMA node read from SysFS had negative value (-1), but there must be at least one NUMA node, so returning NUMA node zero. See more at https://github.com/torvalds/linux/blob/v6.0/Documentation/ABI/testing/sysfs-bus-pci#L344-L355\n",
      "2024-02-07 21:41:26.956422: I external/local_xla/xla/stream_executor/cuda/cuda_executor.cc:901] successful NUMA node read from SysFS had negative value (-1), but there must be at least one NUMA node, so returning NUMA node zero. See more at https://github.com/torvalds/linux/blob/v6.0/Documentation/ABI/testing/sysfs-bus-pci#L344-L355\n",
      "2024-02-07 21:41:27.000693: I external/local_xla/xla/stream_executor/cuda/cuda_executor.cc:901] successful NUMA node read from SysFS had negative value (-1), but there must be at least one NUMA node, so returning NUMA node zero. See more at https://github.com/torvalds/linux/blob/v6.0/Documentation/ABI/testing/sysfs-bus-pci#L344-L355\n",
      "2024-02-07 21:41:27.000801: I external/local_xla/xla/stream_executor/cuda/cuda_executor.cc:901] successful NUMA node read from SysFS had negative value (-1), but there must be at least one NUMA node, so returning NUMA node zero. See more at https://github.com/torvalds/linux/blob/v6.0/Documentation/ABI/testing/sysfs-bus-pci#L344-L355\n",
      "2024-02-07 21:41:27.000867: I external/local_xla/xla/stream_executor/cuda/cuda_executor.cc:901] successful NUMA node read from SysFS had negative value (-1), but there must be at least one NUMA node, so returning NUMA node zero. See more at https://github.com/torvalds/linux/blob/v6.0/Documentation/ABI/testing/sysfs-bus-pci#L344-L355\n",
      "2024-02-07 21:41:27.000952: I tensorflow/core/common_runtime/gpu/gpu_device.cc:1929] Created device /job:localhost/replica:0/task:0/device:GPU:0 with 4280 MB memory:  -> device: 0, name: NVIDIA GeForce RTX 4050 Laptop GPU, pci bus id: 0000:01:00.0, compute capability: 8.9\n",
      "2024-02-07 21:41:27.142135: I external/local_tsl/tsl/platform/default/subprocess.cc:304] Start cannot spawn child process: No such file or directory\n"
     ]
    },
    {
     "name": "stdout",
     "output_type": "stream",
     "text": [
      "Found 28709 files belonging to 7 classes.\n",
      "Using 8612 files for validation.\n"
     ]
    }
   ],
   "source": [
    "dsTrain = tf.keras.utils.image_dataset_from_directory(r\"Datasets/train\", labels='inferred', label_mode='int', color_mode='grayscale',seed=123,validation_split=0.3,subset='training',image_size=(48,48))\n",
    "dsValid = tf.keras.utils.image_dataset_from_directory(r\"Datasets/train\", labels='inferred', label_mode='int', color_mode='grayscale',seed=123,validation_split=0.3,subset='validation',image_size=(48,48))"
   ]
  },
  {
   "cell_type": "code",
   "execution_count": 4,
   "metadata": {},
   "outputs": [],
   "source": [
    "from tensorflow.keras.models import Sequential\n",
    "from tensorflow.keras.layers import Dense, Conv2D, Dropout, MaxPooling2D, Flatten, BatchNormalization\n",
    "from tensorflow.keras.optimizers import Adam, SGD\n",
    "from tensorflow.keras.losses import SparseCategoricalCrossentropy"
   ]
  },
  {
   "cell_type": "markdown",
   "metadata": {},
   "source": [
    "## **Best Accuracy model architecture**"
   ]
  },
  {
   "cell_type": "code",
   "execution_count": 28,
   "metadata": {},
   "outputs": [],
   "source": [
    "modelNewExp = Sequential(\n",
    "    [\n",
    "        tf.keras.Input(shape=(48,48,1)),\n",
    "        # tf.keras.Input(shape=(28709)),\n",
    "        Conv2D(64, (3,3), padding='same', activation='relu'),\n",
    "        BatchNormalization(),\n",
    "        Conv2D(64, (3,3), padding='same', activation='leaky_relu'),\n",
    "        BatchNormalization(),\n",
    "        MaxPooling2D((2,2)),\n",
    "        Dropout(0.3),\n",
    "\n",
    "        Conv2D(128, (3,3), padding='same',activation='relu'),\n",
    "        BatchNormalization(),\n",
    "        Conv2D(64, (3,3), padding='same', activation='leaky_relu'),\n",
    "        BatchNormalization(),\n",
    "        MaxPooling2D((2,2)),\n",
    "        Dropout(0.3),\n",
    "\n",
    "        Conv2D(32, (3,3), padding='same', activation='relu'),\n",
    "        BatchNormalization(),\n",
    "        Conv2D(32, (3,3),padding='same', activation='leaky_relu'),\n",
    "        BatchNormalization(),\n",
    "        MaxPooling2D((2,2)),\n",
    "        Dropout(0.44),\n",
    "\n",
    "\n",
    "        Flatten(),\n",
    "        Dense(16, activation='relu'),\n",
    "        # Dense(128, activation='leaky_relu'),\n",
    "        # Dropout(0.3),\n",
    "        # Dense(128, activation='relu', kernel_regularizer='l2'),\n",
    "        Dense(64, activation='leaky_relu'),\n",
    "        Dense(32, activation='relu'),\n",
    "        Dense(16, activation='relu', kernel_regularizer='l2'),\n",
    "        # Dropout(0.3),\n",
    "        Dense(7, activation='softmax')\n",
    "    ]\n",
    ")"
   ]
  },
  {
   "cell_type": "markdown",
   "metadata": {},
   "source": [
    "## **Experiments with model architecture**"
   ]
  },
  {
   "cell_type": "code",
   "execution_count": 7,
   "metadata": {},
   "outputs": [],
   "source": [
    "modelNewExp = Sequential(\n",
    "    [\n",
    "        tf.keras.Input(shape=(48,48,1)),\n",
    "        Conv2D(32, (3,3), padding='same', activation='relu'),\n",
    "        BatchNormalization(),\n",
    "        Conv2D(64, (3,3), padding='same', activation='leaky_relu'),\n",
    "        BatchNormalization(),\n",
    "        MaxPooling2D((2,2)),\n",
    "        Dropout(0.3),\n",
    "\n",
    "        Conv2D(128, (3,3), padding='same',activation='relu'),\n",
    "        BatchNormalization(),\n",
    "        Conv2D(64, (3,3), padding='same', activation='leaky_relu'),\n",
    "        BatchNormalization(),\n",
    "        MaxPooling2D((2,2)),\n",
    "        Dropout(0.3),\n",
    "\n",
    "        Conv2D(64, (3,3), padding='same', activation='relu'),\n",
    "        BatchNormalization(),\n",
    "        Conv2D(32, (3,3),padding='same', activation='leaky_relu'),\n",
    "        BatchNormalization(),\n",
    "        MaxPooling2D((2,2)),\n",
    "        Dropout(0.3),\n",
    "\n",
    "\n",
    "        Dropout(0.3),\n",
    "        \n",
    "        Flatten(),\n",
    "        Dense(16, activation='relu'),\n",
    "        # Dense(128, activation='leaky_relu'),\n",
    "        # Dropout(0.3),\n",
    "        # Dense(128, activation='relu', kernel_regularizer='l2'),\n",
    "        Dense(64, activation='leaky_relu'),\n",
    "        Dense(32, activation='relu'),\n",
    "        Dense(16, activation='relu', kernel_regularizer='l2'),\n",
    "        # Dropout(0.3),\n",
    "        Dense(7, activation='softmax')\n",
    "    ]\n",
    ")"
   ]
  },
  {
   "cell_type": "markdown",
   "metadata": {},
   "source": [
    "## **Exp continues**"
   ]
  },
  {
   "cell_type": "code",
   "execution_count": 24,
   "metadata": {},
   "outputs": [
    {
     "name": "stdout",
     "output_type": "stream",
     "text": [
      "Model: \"sequential_3\"\n",
      "_________________________________________________________________\n",
      " Layer (type)                Output Shape              Param #   \n",
      "=================================================================\n",
      " conv2d_18 (Conv2D)          (None, 48, 48, 64)        640       \n",
      "                                                                 \n",
      " batch_normalization_18 (Ba  (None, 48, 48, 64)        256       \n",
      " tchNormalization)                                               \n",
      "                                                                 \n",
      " conv2d_19 (Conv2D)          (None, 48, 48, 64)        36928     \n",
      "                                                                 \n",
      " batch_normalization_19 (Ba  (None, 48, 48, 64)        256       \n",
      " tchNormalization)                                               \n",
      "                                                                 \n",
      " max_pooling2d_9 (MaxPoolin  (None, 24, 24, 64)        0         \n",
      " g2D)                                                            \n",
      "                                                                 \n",
      " dropout_12 (Dropout)        (None, 24, 24, 64)        0         \n",
      "                                                                 \n",
      " conv2d_20 (Conv2D)          (None, 24, 24, 128)       73856     \n",
      "                                                                 \n",
      " batch_normalization_20 (Ba  (None, 24, 24, 128)       512       \n",
      " tchNormalization)                                               \n",
      "                                                                 \n",
      " conv2d_21 (Conv2D)          (None, 24, 24, 64)        73792     \n",
      "                                                                 \n",
      " batch_normalization_21 (Ba  (None, 24, 24, 64)        256       \n",
      " tchNormalization)                                               \n",
      "                                                                 \n",
      " max_pooling2d_10 (MaxPooli  (None, 12, 12, 64)        0         \n",
      " ng2D)                                                           \n",
      "                                                                 \n",
      " dropout_13 (Dropout)        (None, 12, 12, 64)        0         \n",
      "                                                                 \n",
      " conv2d_22 (Conv2D)          (None, 12, 12, 32)        18464     \n",
      "                                                                 \n",
      " batch_normalization_22 (Ba  (None, 12, 12, 32)        128       \n",
      " tchNormalization)                                               \n",
      "                                                                 \n",
      " conv2d_23 (Conv2D)          (None, 12, 12, 32)        9248      \n",
      "                                                                 \n",
      " batch_normalization_23 (Ba  (None, 12, 12, 32)        128       \n",
      " tchNormalization)                                               \n",
      "                                                                 \n",
      " max_pooling2d_11 (MaxPooli  (None, 6, 6, 32)          0         \n",
      " ng2D)                                                           \n",
      "                                                                 \n",
      " dropout_14 (Dropout)        (None, 6, 6, 32)          0         \n",
      "                                                                 \n",
      " dropout_15 (Dropout)        (None, 6, 6, 32)          0         \n",
      "                                                                 \n",
      " flatten_3 (Flatten)         (None, 1152)              0         \n",
      "                                                                 \n",
      " dense_15 (Dense)            (None, 16)                18448     \n",
      "                                                                 \n",
      " dense_16 (Dense)            (None, 64)                1088      \n",
      "                                                                 \n",
      " dense_17 (Dense)            (None, 32)                2080      \n",
      "                                                                 \n",
      " dense_18 (Dense)            (None, 16)                528       \n",
      "                                                                 \n",
      " dense_19 (Dense)            (None, 7)                 119       \n",
      "                                                                 \n",
      "=================================================================\n",
      "Total params: 236727 (924.71 KB)\n",
      "Trainable params: 235959 (921.71 KB)\n",
      "Non-trainable params: 768 (3.00 KB)\n",
      "_________________________________________________________________\n"
     ]
    }
   ],
   "source": [
    "modelNewExp.summary()"
   ]
  },
  {
   "cell_type": "code",
   "execution_count": 29,
   "metadata": {},
   "outputs": [],
   "source": [
    "modelNewExp.compile(loss=SparseCategoricalCrossentropy(), optimizer=Adam(0.001), metrics=['accuracy'])"
   ]
  },
  {
   "cell_type": "code",
   "execution_count": 14,
   "metadata": {},
   "outputs": [],
   "source": [
    "import datetime"
   ]
  },
  {
   "cell_type": "code",
   "execution_count": 20,
   "metadata": {},
   "outputs": [],
   "source": [
    "modelNewExp.save(f'Final Model{datetime.datetime.now()}.h5')"
   ]
  },
  {
   "cell_type": "code",
   "execution_count": 19,
   "metadata": {},
   "outputs": [
    {
     "name": "stdout",
     "output_type": "stream",
     "text": [
      "Epoch 1/100\n"
     ]
    },
    {
     "name": "stderr",
     "output_type": "stream",
     "text": [
      "2024-02-07 21:49:39.202910: E tensorflow/core/grappler/optimizers/meta_optimizer.cc:961] layout failed: INVALID_ARGUMENT: Size of values 0 does not match size of permutation 4 @ fanin shape insequential_2/dropout_8/dropout/SelectV2-2-TransposeNHWCToNCHW-LayoutOptimizer\n"
     ]
    },
    {
     "name": "stdout",
     "output_type": "stream",
     "text": [
      "629/629 [==============================] - 16s 21ms/step - loss: 1.8065 - accuracy: 0.2820 - val_loss: 1.6128 - val_accuracy: 0.3674\n",
      "Epoch 2/100\n",
      "629/629 [==============================] - 12s 20ms/step - loss: 1.4998 - accuracy: 0.4053 - val_loss: 1.5448 - val_accuracy: 0.3957\n",
      "Epoch 3/100\n",
      "629/629 [==============================] - 12s 20ms/step - loss: 1.3935 - accuracy: 0.4585 - val_loss: 1.3268 - val_accuracy: 0.4825\n",
      "Epoch 4/100\n",
      "629/629 [==============================] - 12s 20ms/step - loss: 1.3043 - accuracy: 0.4961 - val_loss: 1.3130 - val_accuracy: 0.4963\n",
      "Epoch 5/100\n",
      "629/629 [==============================] - 12s 20ms/step - loss: 1.2558 - accuracy: 0.5190 - val_loss: 1.2332 - val_accuracy: 0.5235\n",
      "Epoch 6/100\n",
      "629/629 [==============================] - 13s 20ms/step - loss: 1.2066 - accuracy: 0.5369 - val_loss: 1.2149 - val_accuracy: 0.5353\n",
      "Epoch 7/100\n",
      "629/629 [==============================] - 12s 20ms/step - loss: 1.1768 - accuracy: 0.5463 - val_loss: 1.2473 - val_accuracy: 0.5268\n",
      "Epoch 8/100\n",
      "629/629 [==============================] - 12s 20ms/step - loss: 1.1399 - accuracy: 0.5664 - val_loss: 1.2087 - val_accuracy: 0.5406\n",
      "Epoch 9/100\n",
      "629/629 [==============================] - 12s 20ms/step - loss: 1.1087 - accuracy: 0.5759 - val_loss: 1.1828 - val_accuracy: 0.5480\n",
      "Epoch 10/100\n",
      "629/629 [==============================] - 12s 20ms/step - loss: 1.0867 - accuracy: 0.5877 - val_loss: 1.1367 - val_accuracy: 0.5716\n",
      "Epoch 11/100\n",
      "629/629 [==============================] - 13s 20ms/step - loss: 1.0606 - accuracy: 0.5970 - val_loss: 1.2811 - val_accuracy: 0.5197\n",
      "Epoch 12/100\n",
      "629/629 [==============================] - 12s 20ms/step - loss: 1.0458 - accuracy: 0.6080 - val_loss: 1.1215 - val_accuracy: 0.5737\n",
      "Epoch 13/100\n",
      "629/629 [==============================] - 12s 20ms/step - loss: 1.0166 - accuracy: 0.6156 - val_loss: 1.1085 - val_accuracy: 0.5905\n",
      "Epoch 14/100\n",
      "629/629 [==============================] - 12s 20ms/step - loss: 0.9916 - accuracy: 0.6278 - val_loss: 1.1055 - val_accuracy: 0.5870\n",
      "Epoch 15/100\n",
      "629/629 [==============================] - 12s 20ms/step - loss: 0.9801 - accuracy: 0.6308 - val_loss: 1.1414 - val_accuracy: 0.5762\n",
      "Epoch 16/100\n",
      "629/629 [==============================] - 12s 20ms/step - loss: 0.9682 - accuracy: 0.6383 - val_loss: 1.1108 - val_accuracy: 0.5879\n",
      "Epoch 17/100\n",
      "629/629 [==============================] - 12s 19ms/step - loss: 0.9517 - accuracy: 0.6410 - val_loss: 1.1429 - val_accuracy: 0.5795\n",
      "Epoch 18/100\n",
      "629/629 [==============================] - 12s 20ms/step - loss: 0.9334 - accuracy: 0.6502 - val_loss: 1.0992 - val_accuracy: 0.5971\n",
      "Epoch 19/100\n",
      "629/629 [==============================] - 12s 20ms/step - loss: 0.9146 - accuracy: 0.6569 - val_loss: 1.1908 - val_accuracy: 0.5625\n",
      "Epoch 20/100\n",
      "629/629 [==============================] - 12s 20ms/step - loss: 0.8947 - accuracy: 0.6695 - val_loss: 1.1581 - val_accuracy: 0.5835\n",
      "Epoch 21/100\n",
      "629/629 [==============================] - 12s 20ms/step - loss: 0.8956 - accuracy: 0.6665 - val_loss: 1.1180 - val_accuracy: 0.5948\n",
      "Epoch 22/100\n",
      "629/629 [==============================] - 12s 20ms/step - loss: 0.8732 - accuracy: 0.6737 - val_loss: 1.1873 - val_accuracy: 0.5836\n",
      "Epoch 23/100\n",
      "629/629 [==============================] - 12s 20ms/step - loss: 0.8679 - accuracy: 0.6785 - val_loss: 1.0873 - val_accuracy: 0.6060\n",
      "Epoch 24/100\n",
      "629/629 [==============================] - 12s 20ms/step - loss: 0.8593 - accuracy: 0.6788 - val_loss: 1.1363 - val_accuracy: 0.6001\n",
      "Epoch 25/100\n",
      "629/629 [==============================] - 12s 20ms/step - loss: 0.8396 - accuracy: 0.6896 - val_loss: 1.1677 - val_accuracy: 0.5873\n",
      "Epoch 26/100\n",
      "629/629 [==============================] - 12s 20ms/step - loss: 0.8373 - accuracy: 0.6874 - val_loss: 1.1419 - val_accuracy: 0.5950\n",
      "Epoch 27/100\n",
      "629/629 [==============================] - 12s 20ms/step - loss: 0.8145 - accuracy: 0.6966 - val_loss: 1.1573 - val_accuracy: 0.6024\n",
      "Epoch 28/100\n",
      "629/629 [==============================] - 12s 20ms/step - loss: 0.8220 - accuracy: 0.6983 - val_loss: 1.0858 - val_accuracy: 0.6069\n",
      "Epoch 29/100\n",
      "629/629 [==============================] - 12s 20ms/step - loss: 0.8153 - accuracy: 0.6998 - val_loss: 1.0988 - val_accuracy: 0.6124\n",
      "Epoch 30/100\n",
      "629/629 [==============================] - 12s 20ms/step - loss: 0.7831 - accuracy: 0.7115 - val_loss: 1.1320 - val_accuracy: 0.5981\n",
      "Epoch 31/100\n",
      "629/629 [==============================] - 12s 20ms/step - loss: 0.7838 - accuracy: 0.7127 - val_loss: 1.1508 - val_accuracy: 0.6040\n",
      "Epoch 32/100\n",
      "629/629 [==============================] - 12s 20ms/step - loss: 0.7725 - accuracy: 0.7183 - val_loss: 1.1146 - val_accuracy: 0.6083\n",
      "Epoch 33/100\n",
      "629/629 [==============================] - 12s 20ms/step - loss: 0.7646 - accuracy: 0.7165 - val_loss: 1.1426 - val_accuracy: 0.5979\n",
      "Epoch 34/100\n",
      "629/629 [==============================] - 12s 20ms/step - loss: 0.7509 - accuracy: 0.7209 - val_loss: 1.1265 - val_accuracy: 0.6082\n"
     ]
    },
    {
     "data": {
      "text/plain": [
       "<keras.src.callbacks.History at 0x7f658408b3d0>"
      ]
     },
     "execution_count": 19,
     "metadata": {},
     "output_type": "execute_result"
    }
   ],
   "source": [
    "modelNewExp.fit(dsTrain, epochs=100, validation_data=dsValid, callbacks=tf.keras.callbacks.EarlyStopping(monitor='val_accuracy', patience=5, restore_best_weights=True))"
   ]
  },
  {
   "cell_type": "code",
   "execution_count": 21,
   "metadata": {},
   "outputs": [
    {
     "name": "stdout",
     "output_type": "stream",
     "text": [
      "Found 28709 files belonging to 7 classes.\n"
     ]
    }
   ],
   "source": [
    "ds = tf.keras.utils.image_dataset_from_directory(r\"Datasets/train\", labels='inferred', label_mode='int', color_mode='grayscale',seed=123,image_size=(48,48))"
   ]
  },
  {
   "cell_type": "code",
   "execution_count": 34,
   "metadata": {},
   "outputs": [
    {
     "name": "stdout",
     "output_type": "stream",
     "text": [
      "Found 7178 files belonging to 7 classes.\n"
     ]
    }
   ],
   "source": [
    "dsTest = tf.keras.utils.image_dataset_from_directory(r\"Datasets/test\", labels='inferred', label_mode='int', color_mode='grayscale',seed=123,image_size=(48,48))"
   ]
  },
  {
   "cell_type": "code",
   "execution_count": 36,
   "metadata": {},
   "outputs": [
    {
     "name": "stdout",
     "output_type": "stream",
     "text": [
      "Epoch 1/20\n",
      "898/898 [==============================] - 16s 17ms/step - loss: 1.4956 - accuracy: 0.4256\n",
      "Epoch 2/20\n",
      "898/898 [==============================] - 16s 18ms/step - loss: 1.3380 - accuracy: 0.4863\n",
      "Epoch 3/20\n",
      "898/898 [==============================] - 16s 18ms/step - loss: 1.2609 - accuracy: 0.5191\n",
      "Epoch 4/20\n",
      "898/898 [==============================] - 17s 18ms/step - loss: 1.2046 - accuracy: 0.5428\n",
      "Epoch 5/20\n",
      "898/898 [==============================] - 16s 18ms/step - loss: 1.1692 - accuracy: 0.5577\n",
      "Epoch 6/20\n",
      "898/898 [==============================] - 17s 18ms/step - loss: 1.1319 - accuracy: 0.5722\n",
      "Epoch 7/20\n",
      "898/898 [==============================] - 17s 18ms/step - loss: 1.1002 - accuracy: 0.5857\n",
      "Epoch 8/20\n",
      "898/898 [==============================] - 17s 18ms/step - loss: 1.0745 - accuracy: 0.5932\n",
      "Epoch 9/20\n",
      "898/898 [==============================] - 16s 18ms/step - loss: 1.0512 - accuracy: 0.6059\n",
      "Epoch 10/20\n",
      "898/898 [==============================] - 16s 18ms/step - loss: 1.0261 - accuracy: 0.6152\n",
      "Epoch 11/20\n",
      "898/898 [==============================] - 16s 18ms/step - loss: 1.0064 - accuracy: 0.6229\n",
      "Epoch 12/20\n",
      "898/898 [==============================] - 16s 18ms/step - loss: 0.9773 - accuracy: 0.6336\n",
      "Epoch 13/20\n",
      "898/898 [==============================] - 16s 18ms/step - loss: 0.9666 - accuracy: 0.6369\n",
      "Epoch 14/20\n",
      "898/898 [==============================] - 16s 18ms/step - loss: 0.9497 - accuracy: 0.6435\n",
      "Epoch 15/20\n",
      "898/898 [==============================] - 16s 18ms/step - loss: 0.9351 - accuracy: 0.6517\n",
      "Epoch 16/20\n",
      "898/898 [==============================] - 16s 18ms/step - loss: 0.9199 - accuracy: 0.6584\n",
      "Epoch 17/20\n",
      "898/898 [==============================] - 16s 18ms/step - loss: 0.9076 - accuracy: 0.6635\n",
      "Epoch 18/20\n",
      "898/898 [==============================] - 16s 18ms/step - loss: 0.8930 - accuracy: 0.6695\n",
      "Epoch 19/20\n",
      "898/898 [==============================] - 16s 18ms/step - loss: 0.8784 - accuracy: 0.6756\n",
      "Epoch 20/20\n",
      "898/898 [==============================] - 16s 18ms/step - loss: 0.8709 - accuracy: 0.6772\n"
     ]
    },
    {
     "data": {
      "text/plain": [
       "<keras.src.callbacks.History at 0x7f63e4d99690>"
      ]
     },
     "execution_count": 36,
     "metadata": {},
     "output_type": "execute_result"
    }
   ],
   "source": [
    "modelNewExp.fit(ds, epochs=20)"
   ]
  },
  {
   "cell_type": "code",
   "execution_count": 32,
   "metadata": {},
   "outputs": [],
   "source": [
    "loadedModel = tf.keras.saving.load_model('Final Model2024-02-07 21:56:54.303115 - Trained on sample of data.h5')"
   ]
  },
  {
   "cell_type": "code",
   "execution_count": 35,
   "metadata": {},
   "outputs": [
    {
     "name": "stdout",
     "output_type": "stream",
     "text": [
      "225/225 [==============================] - 1s 6ms/step - loss: 1.1167 - accuracy: 0.6067\n"
     ]
    },
    {
     "data": {
      "text/plain": [
       "[1.116668462753296, 0.6067149639129639]"
      ]
     },
     "execution_count": 35,
     "metadata": {},
     "output_type": "execute_result"
    }
   ],
   "source": [
    "loadedModel.evaluate(dsTest)"
   ]
  },
  {
   "cell_type": "code",
   "execution_count": 37,
   "metadata": {},
   "outputs": [
    {
     "name": "stdout",
     "output_type": "stream",
     "text": [
      "225/225 [==============================] - 1s 5ms/step - loss: 1.0507 - accuracy: 0.6193\n"
     ]
    },
    {
     "data": {
      "text/plain": [
       "[1.0507274866104126, 0.6192532777786255]"
      ]
     },
     "execution_count": 37,
     "metadata": {},
     "output_type": "execute_result"
    }
   ],
   "source": [
    "modelNewExp.evaluate(dsTest)"
   ]
  },
  {
   "cell_type": "code",
   "execution_count": null,
   "metadata": {},
   "outputs": [],
   "source": []
  }
 ],
 "metadata": {
  "kernelspec": {
   "display_name": "emotionDetection-InvictusHack",
   "language": "python",
   "name": "python3"
  },
  "language_info": {
   "codemirror_mode": {
    "name": "ipython",
    "version": 3
   },
   "file_extension": ".py",
   "mimetype": "text/x-python",
   "name": "python",
   "nbconvert_exporter": "python",
   "pygments_lexer": "ipython3",
   "version": "3.10.12"
  }
 },
 "nbformat": 4,
 "nbformat_minor": 2
}
